{
  "nbformat": 4,
  "nbformat_minor": 0,
  "metadata": {
    "colab": {
      "name": "Caixeiro viajante.ipynb",
      "provenance": [],
      "authorship_tag": "ABX9TyMLrbXZPTo+IScAdS1ycnEM",
      "include_colab_link": true
    },
    "kernelspec": {
      "name": "python3",
      "display_name": "Python 3"
    },
    "language_info": {
      "name": "python"
    }
  },
  "cells": [
    {
      "cell_type": "markdown",
      "metadata": {
        "id": "view-in-github",
        "colab_type": "text"
      },
      "source": [
        "<a href=\"https://colab.research.google.com/github/schusmeicer/Data-science-Alura-exercicios-/blob/main/Caixeiro_viajante.ipynb\" target=\"_parent\"><img src=\"https://colab.research.google.com/assets/colab-badge.svg\" alt=\"Open In Colab\"/></a>"
      ]
    },
    {
      "cell_type": "code",
      "metadata": {
        "id": "IAkwqiRJRAHT"
      },
      "source": [
        "\n",
        "import numpy as np\n",
        "import math as m\n",
        "import matplotlib.pyplot as plt\n",
        "from numpy import random\n",
        "def caixeiroViajante(x,y,n):\n",
        "  distOriginal = np.zeros((n,n)) \n",
        "  a = 1000*np.identity(n,int) \n",
        "  for i in range(0,n):\n",
        "      for j in range(0,n):\n",
        "          distOriginal[i,j] = a[i,j]+m.sqrt((x[i]-x[j])**2+(y[i]-y[j])**2) \n",
        "  rota = np.zeros((n,n)) \n",
        "  distTotal = np.zeros((1,n)) \n",
        "\n",
        "\n",
        "  for i in range(0,n):\n",
        "      dist = distOriginal\n",
        "      distAtual = dist[i,0:n] \n",
        "      rota[i,0] = i \n",
        "      minDist = min(distAtual) \n",
        "      pos = distAtual.tolist().index(minDist) \n",
        "      rota[i,1] = pos \n",
        "      distTotal[0,i] = distTotal[0,i] + minDist \n",
        "      dist[0:n,i] = 1000 \n",
        "\n",
        "\n",
        "      count = 2    \n",
        "      while (count < n):\n",
        "          aux = pos\n",
        "          distAtual = dist[aux,0:n]\n",
        "          minDist = min(distAtual)\n",
        "          pos = distAtual.tolist().index(minDist)\n",
        "          rota[i,count] = pos\n",
        "          distTotal[0,i] = distTotal[0,i]+minDist\n",
        "          dist[0:n,aux] = 1000\n",
        "          count = count+1\n",
        "      else:\n",
        "          distTotal[0,i] = distTotal[0,i]+distOriginal[i,int(rota[i,-1])] \n",
        "\n",
        "  minDistTotal = min(distTotal[0,0:n])\n",
        "  posInicialTotal = distTotal[0,0:n].tolist().index(minDistTotal)\n",
        "  melhorRota = rota[posInicialTotal,0:n]\n",
        "  xMelhor = np.zeros((1,n+1))\n",
        "  yMelhor = np.zeros((1,n+1))\n",
        "\n",
        "  for i in range(0,n):\n",
        "      xMelhor[0,i] = x[int(melhorRota[i])]\n",
        "      yMelhor[0,i] = y[int(melhorRota[i])]\n",
        "  xMelhor[0,n] = xMelhor[0,0]\n",
        "  yMelhor[0,n] = yMelhor[0,0]\n",
        "  x2 = xMelhor[0,0:n+1]\n",
        "  y2 = yMelhor[0,0:n+1]\n",
        "  plt.plot(x,y, 'ro')\n",
        "  plt.axis([-1, 11, 0, 11])\n",
        "  plt.plot(x2,y2,'b-')\n",
        "  plt.show()"
      ],
      "execution_count": null,
      "outputs": []
    },
    {
      "cell_type": "code",
      "metadata": {
        "colab": {
          "base_uri": "https://localhost:8080/",
          "height": 299
        },
        "id": "henyV9hCR2ZX",
        "outputId": "45023f65-c761-4c25-d5eb-02874ee37830"
      },
      "source": [
        "x = []\n",
        "y = []\n",
        "for i in range(4):\n",
        "  x += [random.randint(4)] \n",
        "  y += [random.randint(4)] \n",
        "n = len(x) \n",
        "print(x)\n",
        "print(y)\n",
        "caixeiroViajante(x,y,n)"
      ],
      "execution_count": null,
      "outputs": [
        {
          "output_type": "stream",
          "name": "stdout",
          "text": [
            "[3, 3, 0, 2]\n",
            "[0, 3, 2, 3]\n"
          ]
        },
        {
          "output_type": "display_data",
          "data": {
            "image/png": "[encoded data removed]",
            "text/plain": [
              "<Figure size 432x288 with 1 Axes>"
            ]
          },
          "metadata": {
            "needs_background": "light"
          }
        }
      ]
    },
    {
      "cell_type": "code",
      "metadata": {
        "colab": {
          "base_uri": "https://localhost:8080/",
          "height": 299
        },
        "id": "nlgjZFm5X9Xg",
        "outputId": "8340cfb7-6477-4c85-ac88-1b800a3aa0a7"
      },
      "source": [
        "x = []\n",
        "y = []\n",
        "for i in range(5):\n",
        "  x += [random.randint(5)] \n",
        "  y += [random.randint(5)] \n",
        "n = len(x) \n",
        "print(x)\n",
        "print(y)\n",
        "caixeiroViajante(x,y,n)"
      ],
      "execution_count": null,
      "outputs": [
        {
          "output_type": "stream",
          "name": "stdout",
          "text": [
            "[1, 2, 3, 0, 2]\n",
            "[4, 1, 4, 2, 0]\n"
          ]
        },
        {
          "output_type": "display_data",
          "data": {
            "image/png": "[encoded data removed]",
            "text/plain": [
              "<Figure size 432x288 with 1 Axes>"
            ]
          },
          "metadata": {
            "needs_background": "light"
          }
        }
      ]
    },
    {
      "cell_type": "code",
      "metadata": {
        "colab": {
          "base_uri": "https://localhost:8080/",
          "height": 299
        },
        "id": "WyKYerRQYD4v",
        "outputId": "e50e9982-4598-4d83-de32-65d2641d6a73"
      },
      "source": [
        "x = []\n",
        "y = []\n",
        "for i in range(6):\n",
        "  x += [random.randint(6)] \n",
        "  y += [random.randint(6)] \n",
        "n = len(x) \n",
        "print(x)\n",
        "print(y)\n",
        "caixeiroViajante(x,y,n)"
      ],
      "execution_count": null,
      "outputs": [
        {
          "output_type": "stream",
          "name": "stdout",
          "text": [
            "[4, 2, 4, 2, 1, 3]\n",
            "[1, 2, 4, 1, 4, 5]\n"
          ]
        },
        {
          "output_type": "display_data",
          "data": {
            "image/png": "[encoded data removed]",
            "text/plain": [
              "<Figure size 432x288 with 1 Axes>"
            ]
          },
          "metadata": {
            "needs_background": "light"
          }
        }
      ]
    },
    {
      "cell_type": "code",
      "metadata": {
        "colab": {
          "base_uri": "https://localhost:8080/",
          "height": 299
        },
        "id": "5pKqOiLXYDze",
        "outputId": "1e6e9edf-d132-43d5-8c48-080d48528392"
      },
      "source": [
        "x = []\n",
        "y = []\n",
        "for i in range(7):\n",
        "  x += [random.randint(7)] \n",
        "  y += [random.randint(7)] \n",
        "n = len(x) \n",
        "print(x)\n",
        "print(y)\n",
        "caixeiroViajante(x,y,n)"
      ],
      "execution_count": null,
      "outputs": [
        {
          "output_type": "stream",
          "name": "stdout",
          "text": [
            "[2, 0, 1, 5, 0, 0, 4]\n",
            "[4, 2, 1, 4, 0, 3, 3]\n"
          ]
        },
        {
          "output_type": "display_data",
          "data": {
            "image/png": "[encoded data removed]",
            "text/plain": [
              "<Figure size 432x288 with 1 Axes>"
            ]
          },
          "metadata": {
            "needs_background": "light"
          }
        }
      ]
    },
    {
      "cell_type": "code",
      "metadata": {
        "colab": {
          "base_uri": "https://localhost:8080/",
          "height": 299
        },
        "id": "ODQk9u2TYOJP",
        "outputId": "40409aec-37f4-48e4-cc5c-d5ed53623d37"
      },
      "source": [
        "x = []\n",
        "y = []\n",
        "for i in range(8):\n",
        "  x += [random.randint(8)] \n",
        "  y += [random.randint(8)] \n",
        "n = len(x) \n",
        "print(x)\n",
        "print(y)\n",
        "caixeiroViajante(x,y,n)"
      ],
      "execution_count": null,
      "outputs": [
        {
          "output_type": "stream",
          "name": "stdout",
          "text": [
            "[6, 3, 0, 3, 0, 3, 4, 5]\n",
            "[4, 6, 0, 3, 4, 7, 1, 5]\n"
          ]
        },
        {
          "output_type": "display_data",
          "data": {
            "image/png": "[encoded data removed]",
            "text/plain": [
              "<Figure size 432x288 with 1 Axes>"
            ]
          },
          "metadata": {
            "needs_background": "light"
          }
        }
      ]
    }
  ]
}